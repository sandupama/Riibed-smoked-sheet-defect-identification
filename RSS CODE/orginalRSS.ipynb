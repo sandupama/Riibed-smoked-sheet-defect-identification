{
 "cells": [
  {
   "cell_type": "code",
   "execution_count": 1,
   "metadata": {},
   "outputs": [
    {
     "name": "stdout",
     "output_type": "stream",
     "text": [
      "Found 2726 images belonging to 2 classes.\n",
      "Found 239 images belonging to 2 classes.\n",
      "Epoch 1/10\n",
      "15/15 [==============================] - 75s 5s/step - loss: 0.5654 - accuracy: 0.8084 - val_loss: 0.8223 - val_accuracy: 0.5565\n",
      "Epoch 2/10\n",
      "15/15 [==============================] - 69s 5s/step - loss: 0.4944 - accuracy: 0.8167 - val_loss: 1.1989 - val_accuracy: 0.5565\n",
      "Epoch 3/10\n",
      "15/15 [==============================] - 73s 5s/step - loss: 0.4903 - accuracy: 0.8083 - val_loss: 1.0092 - val_accuracy: 0.5565\n",
      "Epoch 4/10\n",
      "15/15 [==============================] - ETA: 0s - loss: 0.3812 - accuracy: 0.8562"
     ]
    }
   ],
   "source": [
    "import tensorflow as tf\n",
    "import numpy as np\n",
    "from tensorflow import keras\n",
    "import os\n",
    "import cv2\n",
    "from tensorflow.keras.preprocessing.image import ImageDataGenerator\n",
    "from tensorflow.keras.preprocessing import image\n",
    "import matplotlib.pyplot as plt\n",
    "train = ImageDataGenerator(rescale=1/255)\n",
    "test = ImageDataGenerator(rescale=1/255)\n",
    "\n",
    "train_dataset = train.flow_from_directory(r\"C:\\Users\\Sadupama\\Desktop\\model\\model/train/\",\n",
    "                                          target_size=(150,150),\n",
    "                                          batch_size = 32,\n",
    "                                          class_mode = 'binary')\n",
    "                                         \n",
    "test_dataset = test.flow_from_directory(r\"C:\\Users\\Sadupama\\Desktop\\model\\model/test/\",\n",
    "                                          target_size=(150,150),\n",
    "                                          batch_size =32,\n",
    "                                          class_mode = 'binary')\n",
    "test_dataset.class_indices\n",
    "model = keras.Sequential()\n",
    "\n",
    "# Convolutional layer and maxpool layer 1\n",
    "model.add(keras.layers.Conv2D(32,(3,3),activation='relu',input_shape=(150,150,3)))\n",
    "model.add(keras.layers.MaxPool2D(2,2))\n",
    "\n",
    "# Convolutional layer and maxpool layer 2\n",
    "model.add(keras.layers.Conv2D(64,(3,3),activation='relu'))\n",
    "model.add(keras.layers.MaxPool2D(2,2))\n",
    "\n",
    "# Convolutional layer and maxpool layer 3\n",
    "model.add(keras.layers.Conv2D(128,(3,3),activation='relu'))\n",
    "model.add(keras.layers.MaxPool2D(2,2))\n",
    "\n",
    "# Convolutional layer and maxpool layer 4\n",
    "model.add(keras.layers.Conv2D(128,(3,3),activation='relu'))\n",
    "model.add(keras.layers.MaxPool2D(2,2))\n",
    "\n",
    "# This layer flattens the resulting image array to 1D array\n",
    "model.add(keras.layers.Flatten())\n",
    "\n",
    "# Hidden layer with 512 neurons and Rectified Linear Unit activation function \n",
    "model.add(keras.layers.Dense(512,activation='relu'))\n",
    "\n",
    "# Output layer with single neuron which gives 0 for Mould or 1 for reeper \n",
    "#Here we use sigmoid activation function which makes our model output to lie between 0 and 1\n",
    "model.add(keras.layers.Dense(1,activation='sigmoid'))\n",
    "model.compile(optimizer='adam',loss='binary_crossentropy',metrics=['accuracy'])\n",
    "#steps_per_epoch = train_imagesize/batch_size\n",
    "\n",
    "\n",
    "\n",
    "\n",
    "history= model.fit(train_dataset,\n",
    "         steps_per_epoch = 15,\n",
    "         epochs = 10,\n",
    "         validation_data = test_dataset\n",
    "       \n",
    "         )\n",
    "print(history.history.keys()) "
   ]
  },
  {
   "cell_type": "code",
   "execution_count": null,
   "metadata": {},
   "outputs": [],
   "source": [
    "\n",
    "#plotting training values\n",
    "import matplotlib.pyplot as plt\n",
    "import seaborn as sns\n",
    "sns.set()\n",
    "\n",
    "accuracy = history.history['accuracy']\n",
    "val_accuracy = history.history['val_accuracy']\n",
    "loss = history.history['loss']\n",
    "val_loss = history.history['val_loss']\n",
    "epochs = range(1, len(loss) + 1)\n",
    "\n",
    "#accuracy plot\n",
    "plt.plot(epochs, accuracy, color='green', label='Training Accuracy')\n",
    "plt.plot(epochs, val_accuracy, color='blue', label='Validation Accuracy')\n",
    "plt.title('Training and Validation Accuracy')\n",
    "plt.ylabel('Accuracy')\n",
    "plt.xlabel('Epoch')\n",
    "plt.legend(['Train', 'Test'], loc='upper left')\n",
    "\n",
    "#loss plot\n",
    "plt.plot(epochs, loss, color='orange', label='Training Loss')\n",
    "plt.plot(epochs, val_loss, color='red', label='Validation Loss')\n",
    "plt.title('Training and Validation Loss')\n",
    "plt.xlabel('Epochs')\n",
    "plt.ylabel('Loss')\n",
    "plt.legend()\n",
    "\n",
    "plt.show()"
   ]
  },
  {
   "cell_type": "code",
   "execution_count": null,
   "metadata": {},
   "outputs": [],
   "source": [
    "def predictImage(filename):\n",
    "    img1 = image.load_img(filename,target_size=(150,150))\n",
    "    \n",
    "    plt.imshow(img1)\n",
    " \n",
    "    Y = image.img_to_array(img1)\n",
    "    \n",
    "    X = np.expand_dims(Y,axis=0)\n",
    "    val = model.predict(X)\n",
    "    print(val)\n",
    "    if val == 0:\n",
    "        \n",
    "        plt.xlabel(\"Mould\",fontsize=30)\n",
    "        \n",
    "    \n",
    "    elif val == 1:\n",
    "        \n",
    "        plt.xlabel(\"Mould Growth-prevent:Dry the sheets without delay Store dried  sheets with proper arrangements Maintain a good ventilation in the store room Adequate washinge of recommended level of theses chemicals\",fontsize=30)"
   ]
  },
  {
   "cell_type": "code",
   "execution_count": null,
   "metadata": {},
   "outputs": [],
   "source": [
    "predictImage(r\"C:\\Users\\Sadupama\\Desktop\\P\\test\\test\\Mould_growth\\20210713_14435890 (37).jpg\")"
   ]
  }
 ],
 "metadata": {
  "interpreter": {
   "hash": "4edea093c751a905fdd0d196a5026ac5c758d9ac8207c39f6813857dc845cfe3"
  },
  "kernelspec": {
   "display_name": "Python 3.9.7 64-bit (windows store)",
   "name": "python3"
  },
  "language_info": {
   "codemirror_mode": {
    "name": "ipython",
    "version": 3
   },
   "file_extension": ".py",
   "mimetype": "text/x-python",
   "name": "python",
   "nbconvert_exporter": "python",
   "pygments_lexer": "ipython3",
   "version": "3.9.7"
  },
  "orig_nbformat": 4
 },
 "nbformat": 4,
 "nbformat_minor": 2
}
